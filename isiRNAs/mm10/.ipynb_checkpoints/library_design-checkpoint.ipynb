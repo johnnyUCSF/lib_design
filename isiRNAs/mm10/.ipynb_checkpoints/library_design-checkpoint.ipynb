{
 "cells": [
  {
   "cell_type": "code",
   "execution_count": 1,
   "metadata": {
    "collapsed": true
   },
   "outputs": [],
   "source": [
    "import pandas as pd\n",
    "import os \n",
    "import numpy as np\n",
    "import matplotlib.pyplot as plt\n",
    "%matplotlib inline\n",
    "from Bio import SeqIO\n"
   ]
  },
  {
   "cell_type": "code",
   "execution_count": 2,
   "metadata": {},
   "outputs": [
    {
     "data": {
      "image/png": "[encoded data removed]",
      "text/plain": [
       "<matplotlib.figure.Figure at 0x7ff5dc7f8810>"
      ]
     },
     "metadata": {},
     "output_type": "display_data"
    },
    {
     "name": "stdout",
     "output_type": "stream",
     "text": [
      "('before filter:', 193)\n",
      "('after_filter:', 192)\n"
     ]
    }
   ],
   "source": [
    "####define input file\n",
    "infile_name = \"isiRNAs.fa\"\n",
    "####define length cutoff\n",
    "cutoff_len = 100\n",
    "##################################\n",
    "\n",
    "##################################\n",
    "####read\n",
    "infile = SeqIO.parse(infile_name,\"fasta\")\n",
    "####get lengths\n",
    "lengths = []\n",
    "for record in infile:\n",
    "    temp_len = len(record.seq)\n",
    "    lengths.append(temp_len)\n",
    "####plot log lengths\n",
    "plt.hist(lengths)\n",
    "plt.show()\n",
    "####\n",
    "print(\"before filter:\", len(lengths))\n",
    "###################################\n",
    "####implement length cutoff\n",
    "####read\n",
    "infile = SeqIO.parse(infile_name,\"fasta\")\n",
    "####index\n",
    "record_dict = SeqIO.index(infile_name,\"fasta\")\n",
    "###cutoff\n",
    "filtered = []\n",
    "for record in infile:\n",
    "    if len(record.seq) < cutoff_len:\n",
    "        filtered.append(record)\n",
    "####\n",
    "print(\"after_filter:\",len(filtered))"
   ]
  },
  {
   "cell_type": "code",
   "execution_count": 3,
   "metadata": {},
   "outputs": [
    {
     "name": "stdout",
     "output_type": "stream",
     "text": [
      "ID: SHC016\n",
      "Name: SHC016\n",
      "Description: SHC016\n",
      "Number of features: 0\n",
      "Seq('GCGCGATAGCGCTAATAATTT', SingleLetterAlphabet())\n",
      "ID: SHC002\n",
      "Name: SHC002\n",
      "Description: SHC002\n",
      "Number of features: 0\n",
      "Seq('CAACAAGATGAAGAGCACCAA', SingleLetterAlphabet())\n"
     ]
    },
    {
     "data": {
      "text/plain": [
       "194"
      ]
     },
     "execution_count": 3,
     "metadata": {},
     "output_type": "execute_result"
    }
   ],
   "source": [
    "#######define negative control sequence file\n",
    "negfile_name = \"Negatives_shRNAscramble.txt\"\n",
    "##################################\n",
    "\n",
    "##################################\n",
    "####read and add to filtered\n",
    "negfile = SeqIO.parse(negfile_name,\"fasta\")\n",
    "for record in negfile:\n",
    "    print(record)\n",
    "    filtered.append(record)\n",
    "####write out filtered to file\n",
    "SeqIO.write(filtered, \"filtered.fa\", \"fasta\")"
   ]
  },
  {
   "cell_type": "code",
   "execution_count": 4,
   "metadata": {},
   "outputs": [
    {
     "data": {
      "text/plain": [
       "194"
      ]
     },
     "execution_count": 4,
     "metadata": {},
     "output_type": "execute_result"
    }
   ],
   "source": [
    "######define parameters for library construction\n",
    "###\n",
    "adapterF = \"CTGTGTAATCTCCGACACccac\"\n",
    "adapterR = \"gctgGCCTTTGCATGTTGTGGA\"\n",
    "adaptor_setID = \"4\"\n",
    "###\n",
    "digestLeft = \"tcccaGAGACG\"\n",
    "digestRight = \"CGTCTCaccga\"\n",
    "###\n",
    "TuD_hairpin = \"CAAGTATTCTGGTCACAGAATACAAC\"\n",
    "##################################\n",
    "\n",
    "##################################\n",
    "#######construct library\n",
    "finalfile = SeqIO.parse(\"filtered.fa\",\"fasta\")\n",
    "###\n",
    "libfile = []\n",
    "for record in finalfile:\n",
    "    record.seq = adapterF + digestLeft + record.seq.reverse_complement() + TuD_hairpin + record.seq.reverse_complement() + digestRight + adapterR\n",
    "    libfile.append(record)\n",
    "#######write out library to file\n",
    "libfile_name = \"libfile_adaptorset_\"+adaptor_setID+\".fa\"\n",
    "SeqIO.write(libfile, libfile_name, \"fasta\")"
   ]
  },
  {
   "cell_type": "code",
   "execution_count": 5,
   "metadata": {},
   "outputs": [
    {
     "name": "stdout",
     "output_type": "stream",
     "text": [
      "CTGTGTAATCTCCGACACccactcccaGAGACGTGATATCATCAGTTCACAAGTATTCTGGTCACAGAATACAACTGATATCATCAGTTCACGTCTCaccgagctgGCCTTTGCATGTTGTGGA\n",
      "TGAACTGATGATATCA\n"
     ]
    }
   ],
   "source": [
    "####################check work\n",
    "#############define index to examine\n",
    "i = 0\n",
    "##################################\n",
    "\n",
    "##################################\n",
    "print(libfile[i].seq)\n",
    "\n",
    "print(filtered[i].seq)"
   ]
  }
 ],
 "metadata": {
  "kernelspec": {
   "display_name": "Python 2",
   "language": "python",
   "name": "python2"
  },
  "language_info": {
   "codemirror_mode": {
    "name": "ipython",
    "version": 2
   },
   "file_extension": ".py",
   "mimetype": "text/x-python",
   "name": "python",
   "nbconvert_exporter": "python",
   "pygments_lexer": "ipython2",
   "version": "2.7.14"
  }
 },
 "nbformat": 4,
 "nbformat_minor": 2
}
