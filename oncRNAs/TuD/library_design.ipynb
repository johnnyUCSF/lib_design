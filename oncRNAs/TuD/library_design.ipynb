{
 "cells": [
  {
   "cell_type": "code",
   "execution_count": 1,
   "metadata": {
    "collapsed": true
   },
   "outputs": [],
   "source": [
    "import pandas as pd\n",
    "import os \n",
    "import numpy as np\n",
    "import math\n",
    "import matplotlib.pyplot as plt\n",
    "%matplotlib inline\n",
    "from Bio import SeqIO\n",
    "from Bio.SeqRecord import SeqRecord\n",
    "from Bio.Seq import Seq\n",
    "###########\n",
    "#####note oncRNAs are tiled because a significant proprotion of RNAs are longer than the maximum length cutoff\n",
    "##########"
   ]
  },
  {
   "cell_type": "code",
   "execution_count": 2,
   "metadata": {},
   "outputs": [
    {
     "data": {
      "image/png": "[encoded data removed]",
      "text/plain": [
       "<matplotlib.figure.Figure at 0x7f82b8f05790>"
      ]
     },
     "metadata": {},
     "output_type": "display_data"
    },
    {
     "name": "stdout",
     "output_type": "stream",
     "text": [
      "('before filter:', 222)\n",
      "('after_filter:', 107)\n",
      "('too long:', 115)\n",
      "('this is the length of tiled seqs', 345)\n",
      "('this is the length of total tiled and untiled seqs', 452)\n",
      "('final length after filtering out cryptic RE sites', 434)\n"
     ]
    }
   ],
   "source": [
    "####define input file\n",
    "infile_name = \"oncRNAs.fa\"\n",
    "####define length cutoff\n",
    "cutoff_len = 55\n",
    "##################################\n",
    "\n",
    "##################################\n",
    "####read\n",
    "infile = SeqIO.parse(infile_name,\"fasta\")\n",
    "####get lengths\n",
    "lengths = []\n",
    "for record in infile:\n",
    "    temp_len = len(record.seq)\n",
    "    lengths.append(temp_len)\n",
    "####plot log lengths\n",
    "plt.hist(lengths)\n",
    "plt.show()\n",
    "####\n",
    "print(\"before filter:\", len(lengths))\n",
    "###################################\n",
    "####implement length cutoff\n",
    "####read\n",
    "infile = SeqIO.parse(infile_name,\"fasta\")\n",
    "####index\n",
    "record_dict = SeqIO.index(infile_name,\"fasta\")\n",
    "###cutoff\n",
    "filtered = []\n",
    "filtered_long = []\n",
    "for record in infile:\n",
    "    if len(record.seq) < cutoff_len:\n",
    "        filtered.append(record)\n",
    "    else:\n",
    "        filtered_long.append(record)\n",
    "####\n",
    "print(\"after_filter:\",len(filtered))\n",
    "print(\"too long:\", len(filtered_long))\n",
    "###################################\n",
    "########tile those that are too long\n",
    "def build_record(seq,seq_id):\n",
    "    record = SeqRecord(seq,id=seq_id,description=\"\")\n",
    "    return(record)\n",
    "tiled_long = []\n",
    "for record in filtered_long:\n",
    "    ###build tile1\n",
    "    start = 0\n",
    "    end = cutoff_len-1\n",
    "    seq_id = record.id + \"_tile1\"\n",
    "    seq = record.seq[start:end]\n",
    "    tiled_long.append(build_record(seq,seq_id))\n",
    "    ###build_tile2\n",
    "    start = len(record.seq)-(cutoff_len-1)\n",
    "    end = len(record.seq)\n",
    "    seq_id = record.id + \"_tile2\"\n",
    "    seq = record.seq[start:end]\n",
    "    tiled_long.append(build_record(seq,seq_id))    \n",
    "    ###build_tile3\n",
    "    start = int(math.floor(start/2))\n",
    "    end = start+(cutoff_len-1)\n",
    "    seq_id = record.id + \"_tile3\"\n",
    "    seq = record.seq[start:end]\n",
    "    tiled_long.append(build_record(seq,seq_id))    \n",
    "print(\"this is the length of tiled seqs\",len(tiled_long))\n",
    "###################################\n",
    "########Concatenate lists\n",
    "filtered = filtered + tiled_long\n",
    "print(\"this is the length of total tiled and untiled seqs\",len(filtered))\n",
    "###################################\n",
    "\n",
    "###################################\n",
    "###############search for cryptic restriction sites in library\n",
    "####define digest sites\n",
    "digestF = \"GAGACG\"\n",
    "digestR = \"CGTCTC\"\n",
    "##################################\n",
    "\n",
    "##################################\n",
    "######filter for digestF site\n",
    "filtered_2 = []\n",
    "for record in filtered:\n",
    "    if digestF in record.seq:\n",
    "        temp = record\n",
    "    else:\n",
    "        filtered_2.append(record)\n",
    "######filter for digestR site\n",
    "filtered_3 = []\n",
    "for record in filtered_2:\n",
    "    if digestR in record.seq:\n",
    "        temp = record\n",
    "    else:\n",
    "        filtered_3.append(record)\n",
    "##################################reassign\n",
    "filtered = filtered_3\n",
    "print(\"final length after filtering out cryptic RE sites\",len(filtered))"
   ]
  },
  {
   "cell_type": "code",
   "execution_count": 3,
   "metadata": {},
   "outputs": [
    {
     "name": "stdout",
     "output_type": "stream",
     "text": [
      "ID: SHC016\n",
      "Name: SHC016\n",
      "Description: SHC016\n",
      "Number of features: 0\n",
      "Seq('GCGCGATAGCGCTAATAATTT', SingleLetterAlphabet())\n",
      "ID: SHC002\n",
      "Name: SHC002\n",
      "Description: SHC002\n",
      "Number of features: 0\n",
      "Seq('CAACAAGATGAAGAGCACCAA', SingleLetterAlphabet())\n"
     ]
    },
    {
     "data": {
      "text/plain": [
       "436"
      ]
     },
     "execution_count": 3,
     "metadata": {},
     "output_type": "execute_result"
    }
   ],
   "source": [
    "#######define negative control sequence file\n",
    "negfile_name = \"Negatives_shRNAscramble.txt\"\n",
    "##################################\n",
    "\n",
    "##################################\n",
    "####read and add to filtered\n",
    "negfile = SeqIO.parse(negfile_name,\"fasta\")\n",
    "for record in negfile:\n",
    "    print(record)\n",
    "    filtered.append(record)\n",
    "####write out filtered to file\n",
    "SeqIO.write(filtered, \"filtered.fa\", \"fasta\")"
   ]
  },
  {
   "cell_type": "code",
   "execution_count": 4,
   "metadata": {},
   "outputs": [
    {
     "data": {
      "text/plain": [
       "436"
      ]
     },
     "execution_count": 4,
     "metadata": {},
     "output_type": "execute_result"
    }
   ],
   "source": [
    "######define parameters for library construction\n",
    "###\n",
    "adapterF = \"AGGATCTCTAGCCTCAAAccac\"\n",
    "adapterR = \"gctgGATGAAGCATCGTAACTG\"\n",
    "adaptor_setID = \"6\"\n",
    "###\n",
    "digestLeft = \"tcccaGAGACG\"\n",
    "digestRight = \"CGTCTCaccga\"\n",
    "###\n",
    "TuD_hairpin = \"CAAGTATTCTGGTCACAGAATACAAC\"\n",
    "##################################\n",
    "\n",
    "##################################\n",
    "#######construct library\n",
    "finalfile = SeqIO.parse(\"filtered.fa\",\"fasta\")\n",
    "###\n",
    "libfile = []\n",
    "for record in finalfile:\n",
    "    record.seq = adapterF + digestLeft + record.seq.reverse_complement() + TuD_hairpin + record.seq.reverse_complement() + digestRight + adapterR\n",
    "    libfile.append(record)\n",
    "    \n",
    "#######write out library to file\n",
    "libfile_name = \"libfile_adaptorset_\"+adaptor_setID+\".fa\"\n",
    "SeqIO.write(libfile, libfile_name, \"fasta\")"
   ]
  },
  {
   "cell_type": "code",
   "execution_count": 5,
   "metadata": {},
   "outputs": [
    {
     "name": "stdout",
     "output_type": "stream",
     "text": [
      "AGGATCTCTAGCCTCAAAccactcccaGAGACGGGGAGAAGGCGCTCCCCCGGGGAGGAAGCCAAGTATTCTGGTCACAGAATACAACGGGAGAAGGCGCTCCCCCGGGGAGGAAGCCGTCTCaccgagctgGATGAAGCATCGTAACTG\n",
      "GCTTCCTCCCCGGGGGAGCGCCTTCTCCC\n"
     ]
    }
   ],
   "source": [
    "####################check work\n",
    "#############define index to examine\n",
    "i = 0\n",
    "##################################\n",
    "\n",
    "##################################\n",
    "print(libfile[i].seq)\n",
    "\n",
    "print(filtered[i].seq)"
   ]
  },
  {
   "cell_type": "code",
   "execution_count": 6,
   "metadata": {},
   "outputs": [
    {
     "data": {
      "image/png": "[encoded data removed]",
      "text/plain": [
       "<matplotlib.figure.Figure at 0x7f82b8ee7310>"
      ]
     },
     "metadata": {},
     "output_type": "display_data"
    },
    {
     "name": "stdout",
     "output_type": "stream",
     "text": [
      "200\n"
     ]
    }
   ],
   "source": [
    "################check final lengths\n",
    "\n",
    "####define input file\n",
    "lib_name = \"libfile_adaptorset_6.fa\"\n",
    "##################################\n",
    "\n",
    "##################################\n",
    "####read\n",
    "infile = SeqIO.parse(lib_name,\"fasta\")\n",
    "####get lengths\n",
    "lengths = []\n",
    "for record in infile:\n",
    "    temp_len = len(record.seq)\n",
    "    lengths.append(temp_len)\n",
    "####plot log lengths\n",
    "plt.hist(lengths)\n",
    "plt.show()\n",
    "####max length\n",
    "print(max(lengths))"
   ]
  }
 ],
 "metadata": {
  "kernelspec": {
   "display_name": "Python 2",
   "language": "python",
   "name": "python2"
  },
  "language_info": {
   "codemirror_mode": {
    "name": "ipython",
    "version": 2
   },
   "file_extension": ".py",
   "mimetype": "text/x-python",
   "name": "python",
   "nbconvert_exporter": "python",
   "pygments_lexer": "ipython2",
   "version": "2.7.14"
  }
 },
 "nbformat": 4,
 "nbformat_minor": 2
}
