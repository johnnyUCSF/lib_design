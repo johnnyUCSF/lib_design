{
 "cells": [
  {
   "cell_type": "code",
   "execution_count": 8,
   "metadata": {
    "collapsed": true
   },
   "outputs": [],
   "source": [
    "import pandas as pd\n",
    "import os \n",
    "import numpy as np\n",
    "import matplotlib.pyplot as plt\n",
    "%matplotlib inline\n",
    "from Bio import SeqIO\n",
    "from Bio.SeqRecord import SeqRecord\n",
    "from Bio.Seq import Seq"
   ]
  },
  {
   "cell_type": "code",
   "execution_count": 24,
   "metadata": {},
   "outputs": [
    {
     "data": {
      "image/png": "[encoded data removed]",
      "text/plain": [
       "<matplotlib.figure.Figure at 0x7fd99204d090>"
      ]
     },
     "metadata": {},
     "output_type": "display_data"
    },
    {
     "name": "stdout",
     "output_type": "stream",
     "text": [
      "200\n",
      "1411\n"
     ]
    }
   ],
   "source": [
    "####define input file\n",
    "lib_name = \"JYL02.fasta\"\n",
    "##################################\n",
    "\n",
    "##################################\n",
    "####read\n",
    "infile = SeqIO.parse(lib_name,\"fasta\")\n",
    "####get lengths\n",
    "lengths = []\n",
    "for record in infile:\n",
    "    temp_len = len(record.seq)\n",
    "    lengths.append(temp_len)\n",
    "####plot log lengths\n",
    "plt.hist(lengths)\n",
    "plt.show()\n",
    "####print max length\n",
    "print(max(lengths))\n",
    "print(len(lengths))"
   ]
  },
  {
   "cell_type": "code",
   "execution_count": 22,
   "metadata": {},
   "outputs": [
    {
     "name": "stdout",
     "output_type": "stream",
     "text": [
      "5224 JYL02.fasta\n",
      "   760 libfile_adaptorset_4.fa\n",
      "   560 libfile_adaptorset_5.fa\n",
      "  2096 libfile_adaptorset_6.fa\n",
      "   732 libfile_adaptorset_7.fa\n",
      "   666 libfile_adaptorset_8.fa\n",
      "   410 MK_order_02_03.fa\n",
      "  5224 total\n",
      ">isiRNA_precise_1\n",
      "CTGTGTAATCTCCGACACccactcccaGAGACGTGATATCATCAGTTCACAAGTATTCTG\n",
      "GTCACAGAATACAACTGATATCATCAGTTCACGTCTCaccgagctgGCCTTTGCATGTTG\n",
      "TGGA\n",
      ">isiRNA_precise_2\n",
      "CTGTGTAATCTCCGACACccactcccaGAGACGAGCCGACCCCACCCCCGCCCGCCCCCC\n",
      "AAGTATTCTGGTCACAGAATACAACAGCCGACCCCACCCCCGCCCGCCCCCCGTCTCacc\n",
      "gagctgGCCTTTGCATGTTGTGGA\n",
      ">isiRNA_precise_4\n",
      "CTGTGTAATCTCCGACACccactcccaGAGACGCAGCTAGCTGCCTTCTGCAAGTATTCT\n"
     ]
    }
   ],
   "source": [
    "%%bash\n",
    "############concatenate fasta files\n",
    "cat *.fa > JYL02.fasta\n",
    "\n",
    "wc -l JYL02.fasta\n",
    "\n",
    "wc -l *.fa\n",
    "\n",
    "head JYL02.fasta"
   ]
  }
 ],
 "metadata": {
  "kernelspec": {
   "display_name": "Python 2",
   "language": "python",
   "name": "python2"
  },
  "language_info": {
   "codemirror_mode": {
    "name": "ipython",
    "version": 2
   },
   "file_extension": ".py",
   "mimetype": "text/x-python",
   "name": "python",
   "nbconvert_exporter": "python",
   "pygments_lexer": "ipython2",
   "version": "2.7.14"
  }
 },
 "nbformat": 4,
 "nbformat_minor": 2
}
